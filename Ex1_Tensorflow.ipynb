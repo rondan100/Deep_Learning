{
  "nbformat": 4,
  "nbformat_minor": 0,
  "metadata": {
    "colab": {
      "name": "Ex1_Tensorflow.ipynb",
      "provenance": [],
      "collapsed_sections": [],
      "authorship_tag": "ABX9TyOMUCzOUYpbfSgjCFqBCNjq",
      "include_colab_link": true
    },
    "kernelspec": {
      "name": "python3",
      "display_name": "Python 3"
    }
  },
  "cells": [
    {
      "cell_type": "markdown",
      "metadata": {
        "id": "view-in-github",
        "colab_type": "text"
      },
      "source": [
        "<a href=\"https://colab.research.google.com/github/rondan100/Deep_Learning/blob/master/Ex1_Tensorflow.ipynb\" target=\"_parent\"><img src=\"https://colab.research.google.com/assets/colab-badge.svg\" alt=\"Open In Colab\"/></a>"
      ]
    },
    {
      "cell_type": "code",
      "metadata": {
        "id": "I30fdwGetIS_",
        "colab_type": "code",
        "colab": {}
      },
      "source": [
        "import numpy as np\n",
        "import tensorflow as tf"
      ],
      "execution_count": 1,
      "outputs": []
    },
    {
      "cell_type": "code",
      "metadata": {
        "id": "RL3ThI67_Ja7",
        "colab_type": "code",
        "colab": {}
      },
      "source": [
        "# Apresenta o valor da sessão com o comando eval\n",
        "tf.compat.v1.InteractiveSession()\n",
        "print(c.eval())\n",
        "\n",
        "# invoca a sessão para o grafo computacional ser executado\n",
        "# a função Session() tem q adicionar .compat.v1 para ficar\n",
        "# compatível comm a versão 1 do tensorflow\n",
        "# Na teoria, a ultima versão já deveria vir tudo certo,\n",
        "# mas não é o q acontece com o tensorflow \n",
        "with tf.compat.v1.Session() as sess:\n",
        "  a = tf.constant(3)\n",
        "  b = tf.constant(5)\n",
        "\n",
        "  c = a + b\n",
        "  \n",
        "  var1 = sess.run(c)\n",
        "  print(var1)"
      ],
      "execution_count": null,
      "outputs": []
    },
    {
      "cell_type": "code",
      "metadata": {
        "id": "VEIrrC8JDjSA",
        "colab_type": "code",
        "colab": {
          "base_uri": "https://localhost:8080/",
          "height": 85
        },
        "outputId": "71120a3f-7a2c-4589-9900-00b3b589e820"
      },
      "source": [
        "with tf.compat.v1.Session() as sess:\n",
        "  a = tf.Variable(0, name = \"input\")\n",
        "  b = tf.constant(1)\n",
        " \n",
        "  mid_value = tf.add(a,b)\n",
        "  update_value = tf.compat.v1.assign(a, mid_value)\n",
        "# parece q tem q inicializar as variáveis\n",
        "  tg = tf.compat.v1.initialize_all_variables()\n",
        "  sess.run(tg)\n",
        "  print(sess.run(a))\n",
        "\n",
        "# o contador começa do zero.\n",
        "# primeiro ele vai rodar o update_value, q atualiza o a em relação à soma com b.\n",
        "# ele apenas ligou a função mas não aplicpou o comando\n",
        "# segundo, ele vai imprimir o valor a, q no caso é 0. Daí, o comando update_value\n",
        "# é acionado e vai adicionar +1 ao valor de a.\n",
        "  for i in range(3):\n",
        "    sess.run(update_value) \n",
        "    print(sess.run(a))\n",
        "\n",
        "\n",
        "\n"
      ],
      "execution_count": 18,
      "outputs": [
        {
          "output_type": "stream",
          "text": [
            "0\n",
            "1\n",
            "2\n",
            "3\n"
          ],
          "name": "stdout"
        }
      ]
    }
  ]
}